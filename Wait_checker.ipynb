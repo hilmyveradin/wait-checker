{
  "nbformat": 4,
  "nbformat_minor": 0,
  "metadata": {
    "colab": {
      "provenance": []
    },
    "kernelspec": {
      "name": "python3",
      "display_name": "Python 3"
    },
    "language_info": {
      "name": "python"
    }
  },
  "cells": [
    {
      "cell_type": "code",
      "source": [
        "import requests\n",
        "from bs4 import BeautifulSoup\n",
        "import smtplib\n",
        "from email.mime.multipart import MIMEMultipart\n",
        "from email.mime.text import MIMEText\n",
        "import time\n",
        "\n",
        "base_url = 'https://example'\n",
        "text_to_find = \"example\"\n",
        "\n",
        "# You can put the same email here for simplicity\n",
        "sender_email = \"example@gmail.com\"\n",
        "receiver_email = 'example@gmail.com'\n",
        "\n",
        "# For password, you're required to use app password. Take a look at that here\n",
        "password = \"yvgeixzaakzfndan\"\n",
        "\n",
        "email_subject = \"Subject Example\"\n",
        "email_body = \"Body Example\"\n",
        "\n",
        "# Function to send email\n",
        "def send_email():\n",
        "    msg = MIMEMultipart()\n",
        "    msg['From'] = sender_email\n",
        "    msg['To'] = receiver_email\n",
        "    msg['Subject'] = email_subject\n",
        "    body = email_body\n",
        "    msg.attach(MIMEText(body, 'plain'))\n",
        "\n",
        "    server = smtplib.SMTP('smtp.gmail.com', 587)\n",
        "    server.starttls()\n",
        "    server.login(sender_email, password)\n",
        "    server.sendmail(sender_email, receiver_email, msg.as_string())\n",
        "    server.quit()\n",
        "    print(\"Email sent successfully!\")\n",
        "\n",
        "# Main function to check the webpage and possibly send an email\n",
        "def check_page_and_notify():\n",
        "\n",
        "    response = requests.get(base_url)\n",
        "    soup = BeautifulSoup(response.text, 'html.parser')\n",
        "    found_element = soup.find('span', class_='highlight-text', text=text_to_find)\n",
        "\n",
        "    if not found_element:\n",
        "        send_email()\n",
        "        return True  # Return True if the email was sent\n",
        "    else:\n",
        "        print(\"Text found, no need to send an email.\")\n",
        "        return False  # Return False if the text was found and no email was sent\n",
        "\n",
        "email_sent = False  # Flag to keep track of whether the email has been sent\n",
        "\n",
        "# Loop to continuously check the page every 1 minute until the email is sent\n",
        "while not email_sent:\n",
        "    email_sent = check_page_and_notify()\n",
        "    if not email_sent:\n",
        "        print(\"Waiting for 1 minute before checking again...\")\n",
        "        time.sleep(60)  # Sleep for 60 seconds"
      ],
      "metadata": {
        "colab": {
          "base_uri": "https://localhost:8080/"
        },
        "id": "7f62L1YR22s9",
        "outputId": "8be3937c-5e2d-4fb8-ffa2-854966d16283"
      },
      "execution_count": null,
      "outputs": [
        {
          "output_type": "stream",
          "name": "stderr",
          "text": [
            "<ipython-input-17-d80339d6622e>:39: DeprecationWarning: The 'text' argument to find()-type methods is deprecated. Use 'string' instead.\n",
            "  found_element = soup.find('span', class_='highlight-text', text=text_to_find)\n"
          ]
        },
        {
          "output_type": "stream",
          "name": "stdout",
          "text": [
            "Text found, no need to send an email.\n",
            "Waiting for 1 minute before checking again...\n",
            "Text found, no need to send an email.\n",
            "Waiting for 1 minute before checking again...\n",
            "Text found, no need to send an email.\n",
            "Waiting for 1 minute before checking again...\n",
            "Text found, no need to send an email.\n",
            "Waiting for 1 minute before checking again...\n",
            "Text found, no need to send an email.\n",
            "Waiting for 1 minute before checking again...\n"
          ]
        }
      ]
    }
  ]
}